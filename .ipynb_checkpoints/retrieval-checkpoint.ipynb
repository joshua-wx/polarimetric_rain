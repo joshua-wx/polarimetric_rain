{
 "cells": [
  {
   "cell_type": "code",
   "execution_count": 1,
   "metadata": {},
   "outputs": [
    {
     "name": "stdout",
     "output_type": "stream",
     "text": [
      "\n",
      "## You are using the Python ARM Radar Toolkit (Py-ART), an open source\n",
      "## library for working with weather radar data. Py-ART is partly\n",
      "## supported by the U.S. Department of Energy as part of the Atmospheric\n",
      "## Radiation Measurement (ARM) Climate Research Facility, an Office of\n",
      "## Science user facility.\n",
      "##\n",
      "## If you use this software to prepare a publication, please cite:\n",
      "##\n",
      "##     JJ Helmus and SM Collis, JORS 2016, doi: 10.5334/jors.119\n",
      "\n"
     ]
    }
   ],
   "source": [
    "import os\n",
    "from glob import glob\n",
    "\n",
    "import numpy as np\n",
    "from matplotlib import pyplot as plt\n",
    "\n",
    "import pyart\n",
    "\n",
    "import common\n",
    "import attenuation\n",
    "import rainfall\n"
   ]
  },
  {
   "cell_type": "code",
   "execution_count": 2,
   "metadata": {},
   "outputs": [
    {
     "data": {
      "text/plain": [
       "'\\n1: Radar QC (remove non-precip)\\n2: kdp use linear fitting and smoothing over 25 (9) ranges gates when Z was less (greater) than 40dBZ\\n\\n3: Z-Zdr pairs with Z between 20 and 50dB are grouped into sizteen 2dB bins, and then the mean values\\nestimate alpha for those gates with rhohv>0.98 and Z between 20 and 50 dBZ (from 0.5 degree tilt, below melting region), \\nmean values for each bin are calculated and alpha estimated using the relationship slope. \\nMinimum of 30,000 pairs with a default alpha of 0.015dB (pairs are reset after each update)\\nRainfall retrieval applied to 5 - 50 dBZ range\\nMelting layer defined as Hm=(H0 + H10)/2 at the radar site\\n\\n'"
      ]
     },
     "execution_count": 2,
     "metadata": {},
     "output_type": "execute_result"
    }
   ],
   "source": [
    "\"\"\"\n",
    "1: Radar QC (remove non-precip)\n",
    "2: kdp use linear fitting and smoothing over 25 (9) ranges gates when Z was less (greater) than 40dBZ\n",
    "\n",
    "3: Z-Zdr pairs with Z between 20 and 50dB are grouped into sizteen 2dB bins, and then the mean values\n",
    "estimate alpha for those gates with rhohv>0.98 and Z between 20 and 50 dBZ (from 0.5 degree tilt, below melting region), \n",
    "mean values for each bin are calculated and alpha estimated using the relationship slope. \n",
    "Minimum of 30,000 pairs with a default alpha of 0.015dB (pairs are reset after each update)\n",
    "Rainfall retrieval applied to 5 - 50 dBZ range\n",
    "Melting layer defined as Hm=(H0 + H10)/2 at the radar site\n",
    "\n",
    "\"\"\""
   ]
  },
  {
   "cell_type": "code",
   "execution_count": 5,
   "metadata": {},
   "outputs": [
    {
     "name": "stdout",
     "output_type": "stream",
     "text": [
      "processing /g/data/hj10/admin/cp2/level_1b_sband_sur/v2020/ppi/2014/20141127/cp2-s_20141127_053504.sur.cfradial.nc\n",
      "alpha\n",
      "zphi\n"
     ]
    },
    {
     "name": "stderr",
     "output_type": "stream",
     "text": [
      "/g/data/en0/jss548/miniconda3/envs/radar-dev/lib/python3.8/site-packages/numpy/core/fromnumeric.py:746: UserWarning: Warning: 'partition' will ignore the 'mask' of the MaskedArray.\n",
      "  a.partition(kth, axis=axis, kind=kind, order=order)\n"
     ]
    }
   ],
   "source": [
    "#files to process\n",
    "derived_path = '/g/data/hj10/admin/cp2/level_1/derived/sur/2014/20141127'\n",
    "level_1b_path = '/g/data/hj10/admin/cp2/level_1b_sband_sur/v2020/ppi/2014/20141127'\n",
    "vol_ffn_list = sorted(glob(level_1b_path + '/*.nc'))\n",
    "\n",
    "#init alpha dict\n",
    "alpha_dict = {'z_pairs':[], 'zdr_pairs':[], 'alpha_ts':[0.015], 'dt_ts':[]}\n",
    "\n",
    "for vol_ffn in vol_ffn_list[55:56]:\n",
    "    print('processing', vol_ffn)\n",
    "\n",
    "    #read radar\n",
    "    radar = pyart.io.read(vol_ffn)\n",
    "\n",
    "    #generate temp data\n",
    "    radar = common.generate_isom(radar)\n",
    "\n",
    "    #generate gatefilter for nonprecip\n",
    "    #radar = common.add_ncar_pid(radar, derived_path, vol_ffn)\n",
    "\n",
    "    #estimate alpha\n",
    "    alpha_dict = attenuation.estimate_alpha(radar, alpha_dict)\n",
    "\n",
    "    #estimate specific attenuation\n",
    "    alpha = alpha_dict['alpha_ts'][-1]\n",
    "    radar = attenuation.retrieve_zphi(radar, alpha=alpha)\n",
    "    \n",
    "    #estimate rainfall\n",
    "    \n",
    "\n"
   ]
  },
  {
   "cell_type": "code",
   "execution_count": 34,
   "metadata": {},
   "outputs": [],
   "source": [
    "import matplotlib.dates as mdates\n",
    "\n",
    "fig, ax = plt.subplots(figsize=[10,8])\n",
    "plt.plot(alpha_dict['dt_ts'], alpha_dict['alpha_ts'], 'r-')\n",
    "plt.xlabel('time')\n",
    "plt.ylabel('alpha')\n",
    "ax.xaxis.set_major_formatter(mdates.DateFormatter(\"%H:%M\"))"
   ]
  }
 ],
 "metadata": {
  "kernelspec": {
   "display_name": "Python [conda env:radar-dev] *",
   "language": "python",
   "name": "conda-env-radar-dev-py"
  },
  "language_info": {
   "codemirror_mode": {
    "name": "ipython",
    "version": 3
   },
   "file_extension": ".py",
   "mimetype": "text/x-python",
   "name": "python",
   "nbconvert_exporter": "python",
   "pygments_lexer": "ipython3",
   "version": "3.8.2"
  }
 },
 "nbformat": 4,
 "nbformat_minor": 4
}
